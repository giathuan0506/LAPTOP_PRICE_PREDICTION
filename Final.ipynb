{
  "nbformat": 4,
  "nbformat_minor": 0,
  "metadata": {
    "colab": {
      "name": "Linear_regression (1).ipynb",
      "provenance": [],
      "collapsed_sections": []
    },
    "kernelspec": {
      "name": "python3",
      "display_name": "Python 3"
    }
  },
  "cells": [
    {
      "cell_type": "code",
      "metadata": {
        "id": "OnHA1SD58SoE"
      },
      "source": [
        "from bs4 import BeautifulSoup\n",
        "import requests\n",
        "import pandas as pd\n",
        "import numpy as np\n",
        "import json"
      ],
      "execution_count": 1,
      "outputs": []
    },
    {
      "cell_type": "code",
      "metadata": {
        "id": "MZpt-ei-xgFH"
      },
      "source": [
        "# Đọc dữ liệu từ file ‘fpt_product.csv’ loại bỏ các giá trị NaN, các khối có “Năm ra mắt” có giá trị “Đang cập nhật”\n",
        "df = pd.read_csv('fpt_product.csv').dropna().drop(columns=['name', 'url'])\n",
        "df = df[df['Năm ra mắt'] != 'Đang cập nhật']"
      ],
      "execution_count": 2,
      "outputs": []
    },
    {
      "cell_type": "code",
      "metadata": {
        "colab": {
          "base_uri": "https://localhost:8080/"
        },
        "id": "jvj11t0E7dp2",
        "outputId": "f1c00eb0-549a-46e7-aabc-482a13cfe661"
      },
      "source": [
        "print(list(df.columns))"
      ],
      "execution_count": 3,
      "outputs": [
        {
          "output_type": "stream",
          "text": [
            "['price', 'Tốc độ CPU', 'CPU', 'Tốc độ BUS', 'Loại CPU', 'Tốc độ tối đa', 'Hãng CPU', 'Bộ nhớ đệm', 'Tên đầy đủ (CPU)', 'Số luồng', 'Số lõi', 'RAM', 'Loại RAM', 'Số khe cắm rời', 'Tốc độ RAM', 'Dung lượng nâng cấp tối đa', 'Số RAM onboard', 'Tên đầy đủ (RAM)', 'Số khe RAM còn lại', 'Màn hình cảm ứng', 'Công nghệ màn hình', 'Màn hình', 'Độ phân giải', 'Tần số quét', 'Loại cảm ứng', 'Tấm nền', 'Tên đầy đủ (Màn hình)', 'Độ tương phản', 'Độ sáng', 'Tỷ lệ màn hình', 'Độ phủ màu', 'Kiểu màn hình', 'Card đồ họa', 'Card rời', 'Có Card rời', 'Có Card onbroad', 'Hãng (Card onbroad)', 'Model (Card onbroad)', 'Model (Card rời)', 'Xung nhịp tối đa (Card onbroad)', 'Xung nhịp (Card onbroad)', 'Đồ họa', 'Xung nhịp (Card rời)', 'Xung nhịp tối đa (Card rời)', 'Card onbroad', 'Bộ nhớ đồ họa (Card rời)', 'Kiểu bộ nhớ', 'Hãng (Card rời)', 'Tên đầy đủ (Card rời)', 'Tổng số khe cắm SSD/HDD', 'Tốc độ đọc/ghi', 'Tốc độ quay HDD', 'Có SSD', 'Số khe SSD/HDD còn lại', 'Dung Lượng HDD', 'Ổ cứng', 'Dung lượng SSD', 'Kiểu HDD', 'Chuẩn M2', 'Kiểu SSD', 'Có HDD', 'Hỗ trợ công nghệ Optane', 'Khe đọc thẻ nhớ', 'Bluetooth', 'Số cổng Gigabit Ethernet', 'Số cổng HDMI', 'Số cổng VGA', 'Wireless', 'Số cổng Type-C', 'Số cổng USB 2.0', 'Webcame', 'Số cổng 3.5 mm headphone/speaker jack', 'Số cổng DC-in jack', 'Số cổng USB 3.0', 'Số cổng Thunderbolt', 'Số cổng Card reader', 'Senser', 'Công nghệ âm thanh', 'Số Loa', 'Nhận diện khuôn mặt', 'Mở khóa vân tay (Finger Print)', 'Mật khẩu', 'Ổ đĩa quang', 'Loại ổ đĩa quang', 'Bàn phím số', 'Công nghệ đèn bàn phím', 'Kiểu bàn phím', 'TouchPad', 'Loại đèn bàn phím', 'Màu đèn LED', 'PIN có thể tháo rời', 'Loại PIN', 'PIN (Cell)', 'Power Supply', 'Type', 'Version', 'Hệ điều hành', 'Chất liệu mặt bên ngoài cùng', 'Chất liệu khung màn hình', 'Width (mm)', 'Tản nhiệt', 'Height (mm)', 'Bản lề (Hinge / Kickstand)', 'Trọng lượng (kg)', 'Chất liệu mặt lưng', 'Kích thước (mm)', 'Chất liệu mặt bàn phím + kê tay', 'Model Series', 'PN', 'Thời gian bảo hành', 'Xuất xứ', 'Năm ra mắt', 'Phụ kiện kèm theo (bút / bàn phím/ cáp chuyển…)']\n"
          ],
          "name": "stdout"
        }
      ]
    },
    {
      "cell_type": "code",
      "metadata": {
        "id": "qMx1kMZb8Nun"
      },
      "source": [
        "from sklearn.preprocessing import LabelEncoder\r\n",
        "\r\n",
        "lb = LabelEncoder()"
      ],
      "execution_count": 4,
      "outputs": []
    },
    {
      "cell_type": "code",
      "metadata": {
        "id": "uDbdiBNG8UQ_"
      },
      "source": [
        "df['Card đồ họa'] = lb.fit_transform(df['Card đồ họa'])"
      ],
      "execution_count": 5,
      "outputs": []
    },
    {
      "cell_type": "code",
      "metadata": {
        "colab": {
          "base_uri": "https://localhost:8080/"
        },
        "id": "vdr-bcN38igo",
        "outputId": "0f829454-3570-431a-a6cb-be48f9f12777"
      },
      "source": [
        "for i in range(0, len(lb.classes_)):\r\n",
        "  print(i, lb.inverse_transform(np.array([i])))"
      ],
      "execution_count": 6,
      "outputs": [
        {
          "output_type": "stream",
          "text": [
            "0 ['AMD Graphics']\n",
            "1 ['AMD Graphics Vega 3']\n",
            "2 ['AMD Radeon Graphics']\n",
            "3 ['AMD Radeon Graphics Vega 6']\n",
            "4 ['AMD Radeon Graphics Vega 8']\n",
            "5 ['AMD Radeon R5300M-3GB DDR6']\n",
            "6 ['Apple M1']\n",
            "7 ['Card Onboard']\n",
            "8 ['GTX 1650 Ti 4GB']\n",
            "9 ['GeForce GTX 1650 4GB']\n",
            "10 ['GeForce GTX 1650 MaxQ 4GB']\n",
            "11 ['GeForce GTX 1650 Ti 4GB']\n",
            "12 ['GeForce GTX 1660 Ti 6GB']\n",
            "13 ['GeForce MX110 2GB']\n",
            "14 ['GeForce MX130 2GB']\n",
            "15 ['GeForce MX230 2GB']\n",
            "16 ['GeForce MX250 2GB']\n",
            "17 ['GeForce MX330 2GB']\n",
            "18 ['GeForce MX350 2GB']\n",
            "19 ['GeForce RTX 2060 6GB']\n",
            "20 ['GeForce RTX1660 Ti 6GB']\n",
            "21 ['GeForceMX330 2GB']\n",
            "22 ['GeForce\\xa0GTX\\xa01650-4GB']\n",
            "23 ['Geforce GTX1650 4GB']\n",
            "24 ['Gefore 1650Ti 4GB']\n",
            "25 ['Intel HD Graphics 520']\n",
            "26 ['Intel HD Graphics 6000']\n",
            "27 ['Intel HD Graphics 620']\n",
            "28 ['Intel Iris Plus Graphics']\n",
            "29 ['Intel Iris Plus Graphics 645']\n",
            "30 ['Intel Iris XE Graphics']\n",
            "31 ['Intel Iris Xe Graphics']\n",
            "32 ['Intel QHD Graphics 620']\n",
            "33 ['Intel UHD Graphics']\n",
            "34 ['Intel UHD Graphics 620']\n",
            "35 ['Intel UHD Graphisc']\n",
            "36 ['Iris Plus Graphics']\n",
            "37 ['NVIDIA GeForce GTX1650Ti 4Gb']\n",
            "38 ['NVIDIA Quadro P520 4GB']\n",
            "39 ['NVIDIA® GeForce RTX 1660 Max- Q 6GB']\n",
            "40 ['Nvidia GTX1650Ti 4GB']\n",
            "41 ['Nvidia GTX1660Ti 6GB']\n",
            "42 ['Radeon 520 2GB']\n",
            "43 ['Radeon 610 2GB']\n",
            "44 ['Radeon 625 2GB']\n",
            "45 ['Radeon 630 2GB']\n",
            "46 ['Radeon Graphics Vega 3']\n",
            "47 ['Radeon Graphics Vega 8']\n",
            "48 ['Radeon RX 5300M 3GB']\n",
            "49 ['Radeon RX Graphics Vega 10']\n",
            "50 ['Radeon Vega 10 Graphics']\n",
            "51 ['Radeon Vega 3 Graphics']\n",
            "52 ['Radeon Vega 8 Graphics']\n",
            "53 ['VGA Iris Xe']\n"
          ],
          "name": "stdout"
        }
      ]
    },
    {
      "cell_type": "markdown",
      "metadata": {
        "id": "hI7cW2n6QlWe"
      },
      "source": [
        "###  Tiền xử lý dữ liệu"
      ]
    },
    {
      "cell_type": "code",
      "metadata": {
        "id": "cfbUjgpV1r70"
      },
      "source": [
        "# Process CPU\n",
        "benmark = {'Intel Core i5-10300H':  8854, 'AMD Ryzen 7-3750H': 8416, 'AMD Ryzen 5-4600H': 14852, 'AMD Ryzen 5-3550H': 8128,'Intel Core i5-9300H': 7922,\n",
        "'Intel Core i7-10750H': 12622,'Intel Core i7-9750H': 11349,'AMD Ryzen 7-4800H': 19130,'Intel Core i3-8145U': 3781,'Intel Core i3-1005G1': 5248,\n",
        "'Intel Core i3-8130U': 3629,'Intel Core i5-10210U': 6534,'Intel Core i5-1035G1': 8006,'AMD Ryzen 5-3500U': 7169,'Intel Core i7-10510U': 6234,\n",
        "'Intel Core i5-1035G4': 8390,'Intel Core i5-1135G7': 8365,'Intel Core i7-1165G7': 10504,'Intel Core i3-1115G4': 6436,'Intel Pentium N5030': 2121,\n",
        "'AMD Ryzen 7-3700U': 7323,'Apple M1': 16761,'AMD Ryzen 3-4300U': 7954,'Intel Core i7-10870H': 16195,'AMD Ryzen 3-3250U': 4254,'AMD Ryzen 7-4700U': 20179,\n",
        "'Intel Core i3-10110U': 4091,'AMD Ryzen 5-4500U': 11264,'Intel Core i5-8th-gen': 8000,'Intel Core i5-10th-gen': 10000,'Intel Core i5-8265U': 5988,\n",
        "'AMD Ryzen 3-3200U': 2100, 'Intel Pentium N5000': 2121,'Intel Core i7-1065G7': 8981,'AMD Ryzen 5-2500U': 6491,'Intel Core i5-5th-gen': 5000, 'AMD Ryzen 7-4700H' :13801}\n",
        "df['Tên đầy đủ (CPU)'] = df['Tên đầy đủ (CPU)'].apply(lambda x: benmark[x])\n",
        "df = df.drop(columns =['Tốc độ CPU', 'CPU', 'Tốc độ BUS', 'Loại CPU', 'Tốc độ tối đa', 'Hãng CPU', 'Bộ nhớ đệm', 'Loại RAM'])"
      ],
      "execution_count": 7,
      "outputs": []
    },
    {
      "cell_type": "code",
      "metadata": {
        "id": "IWzIfk-X-Qn3"
      },
      "source": [
        "# Process RAM\n",
        "df['RAM'] = df['RAM'].astype(str).str[0].astype(int)"
      ],
      "execution_count": 8,
      "outputs": []
    },
    {
      "cell_type": "code",
      "metadata": {
        "id": "La5qTBc5_Yiu"
      },
      "source": [
        "df['Tốc độ RAM'] = df['Tốc độ RAM'].apply(lambda x: int(x[:4]) if x != 'Đang cập nhật' else x)\n",
        "df.loc[df['Tốc độ RAM'] == 'Đang cập nhật','Tốc độ RAM'] = df[df['Tốc độ RAM'] != 'Đang cập nhật']['Tốc độ RAM'].sum() / len(df[df['Tốc độ RAM'] != 'Đang cập nhật'])\n",
        "df['Tốc độ RAM'] = df['Tốc độ RAM'].astype(int)"
      ],
      "execution_count": 9,
      "outputs": []
    },
    {
      "cell_type": "code",
      "metadata": {
        "id": "g_DLvmTKDCLJ"
      },
      "source": [
        "df = df[df['Dung lượng nâng cấp tối đa'] != 'Đang cập nhật']\n",
        "df.loc[df['Dung lượng nâng cấp tối đa'] == 'Không', 'Dung lượng nâng cấp tối đa'] = 0\n",
        "df['Dung lượng nâng cấp tối đa'] = df['Dung lượng nâng cấp tối đa'].apply(lambda x: int(x[:2]) if x != 0 else 0)"
      ],
      "execution_count": 10,
      "outputs": []
    },
    {
      "cell_type": "code",
      "metadata": {
        "id": "7gweYlZ-BS9w"
      },
      "source": [
        "df['Màn hình'] = df['Màn hình'].astype(str).str[:-1].astype(float)"
      ],
      "execution_count": 11,
      "outputs": []
    },
    {
      "cell_type": "code",
      "metadata": {
        "id": "VYWfOWlCDhvC"
      },
      "source": [
        "df['Độ phân giải'] = df['Độ phân giải'].apply(lambda x: int(x.split(' ')[0]) * int(x.split(' ')[2]))\n",
        "df['Độ phân giải'] = df['Độ phân giải'] / max(df['Độ phân giải']) \n",
        "# Get thời gian bảo hành\n",
        "df['Thời gian bảo hành'] = df['Thời gian bảo hành'].astype(str).str[:2].astype(int)\n",
        "\n",
        "# Get have SSD?\n",
        "df['Có SSD'] = df['Có SSD'].apply(lambda x: 1 if x == 'Có' else 0)\n",
        "df['Có HDD'] = df['Có HDD'].apply(lambda x: 1 if x == 'Có' else 0)\n",
        "\n",
        "# Get Card rời?\n",
        "df['Có Card rời'] = df['Có Card rời'].apply(lambda x: 1 if x == 'Có' else 0)\n",
        "\n",
        "# Get Card on Board?\n",
        "df['Có Card onbroad'] = df['Có Card onbroad'].apply(lambda x: 1 if x == 'Có' else 0)\n",
        "\n",
        "df['Số RAM onboard'] = df['Số RAM onboard'].apply(lambda x: 0 if x == 'Đang cập nhật' else x).astype(int)"
      ],
      "execution_count": 12,
      "outputs": []
    },
    {
      "cell_type": "code",
      "metadata": {
        "id": "T1_5CYJWDvLA"
      },
      "source": [
        "df = df.drop(columns =['Tên đầy đủ (RAM)', 'Màn hình cảm ứng', 'Công nghệ màn hình', 'Loại cảm ứng', 'Tên đầy đủ (Màn hình)', 'Tấm nền', 'Độ tương phản','Tỷ lệ màn hình','Độ phủ màu','Kiểu màn hình', 'Card rời','Hãng (Card onbroad)','Model (Card onbroad)','Model (Card rời)','Xung nhịp (Card onbroad)','Đồ họa','Xung nhịp (Card rời)','Xung nhịp tối đa (Card rời)','Card onbroad'])"
      ],
      "execution_count": 13,
      "outputs": []
    },
    {
      "cell_type": "code",
      "metadata": {
        "id": "cTOHnn7XEPuA"
      },
      "source": [
        "df['Tần số quét'] = df['Tần số quét'].apply(lambda x: int(x[:-3]) if x != 'Đang cập nhật' else x)\n",
        "df.loc[df['Tần số quét'] == 'Đang cập nhật','Tần số quét'] = df[df['Tần số quét'] != 'Đang cập nhật']['Tần số quét'].sum() / len(df[df['Tần số quét'] != 'Đang cập nhật'])\n",
        "df['Tần số quét'] = df['Tần số quét'].astype(int)"
      ],
      "execution_count": 14,
      "outputs": []
    },
    {
      "cell_type": "code",
      "metadata": {
        "id": "RGacwHnvEcWf"
      },
      "source": [
        "df['Độ sáng'] = df['Độ sáng'].apply(lambda x: int(x[:3]) if x != 'Đang cập nhật' else x)\n",
        "df.loc[df['Độ sáng'] == 'Đang cập nhật','Độ sáng'] = df[df['Độ sáng'] != 'Đang cập nhật']['Độ sáng'].sum() / len(df[df['Độ sáng'] != 'Đang cập nhật'])\n",
        "df['Độ sáng'] = df['Độ sáng'].astype(int)"
      ],
      "execution_count": 15,
      "outputs": []
    },
    {
      "cell_type": "code",
      "metadata": {
        "id": "_nHuE3v6HReU"
      },
      "source": [
        "df['Xung nhịp tối đa (Card onbroad)'] = df['Xung nhịp tối đa (Card onbroad)'].apply(lambda x: int(x[:-3]) if x != 'Đang cập nhật' else x)\n",
        "df.loc[df['Xung nhịp tối đa (Card onbroad)'] == 'Đang cập nhật','Xung nhịp tối đa (Card onbroad)'] = df[df['Xung nhịp tối đa (Card onbroad)'] != 'Đang cập nhật']['Xung nhịp tối đa (Card onbroad)'].sum() / len(df[df['Xung nhịp tối đa (Card onbroad)'] != 'Đang cập nhật'])\n",
        "df['Xung nhịp tối đa (Card onbroad)'] = df['Xung nhịp tối đa (Card onbroad)'].astype(int)"
      ],
      "execution_count": 16,
      "outputs": []
    },
    {
      "cell_type": "code",
      "metadata": {
        "id": "UtVlzN4-H-D7"
      },
      "source": [
        "df['Bộ nhớ đồ họa (Card rời)'] = df['Bộ nhớ đồ họa (Card rời)'].apply(lambda x: int(x[0]) if x != 'Không' else 0)"
      ],
      "execution_count": 17,
      "outputs": []
    },
    {
      "cell_type": "code",
      "metadata": {
        "id": "pPMUIqubIIun"
      },
      "source": [
        "df = df.drop(columns = ['Kiểu bộ nhớ', 'Hãng (Card rời)', 'Tên đầy đủ (Card rời)','Tốc độ đọc/ghi','Tốc độ quay HDD','Dung Lượng HDD','Ổ cứng','Kiểu HDD','Chuẩn M2','Kiểu SSD','Hỗ trợ công nghệ Optane','Khe đọc thẻ nhớ','Bluetooth'])"
      ],
      "execution_count": 18,
      "outputs": []
    },
    {
      "cell_type": "code",
      "metadata": {
        "id": "iciIowXRIj03"
      },
      "source": [
        "df['Tổng số khe cắm SSD/HDD'] = df['Tổng số khe cắm SSD/HDD'].apply(lambda x: int(x) if x != 'Đang cập nhật' else x)\n",
        "df.loc[df['Tổng số khe cắm SSD/HDD'] == 'Đang cập nhật','Tổng số khe cắm SSD/HDD'] = df[df['Tổng số khe cắm SSD/HDD'] != 'Đang cập nhật']['Tổng số khe cắm SSD/HDD'].sum() / len(df[df['Tổng số khe cắm SSD/HDD'] != 'Đang cập nhật'])\n",
        "df['Tổng số khe cắm SSD/HDD']=df['Tổng số khe cắm SSD/HDD'].astype(int)"
      ],
      "execution_count": 19,
      "outputs": []
    },
    {
      "cell_type": "code",
      "metadata": {
        "id": "N629knVQIvLE"
      },
      "source": [
        "df[df['Số khe SSD/HDD còn lại'] == 'Đang cập nhật'] = 0\n",
        "df['Số khe SSD/HDD còn lại']=df['Số khe SSD/HDD còn lại'].astype(int)"
      ],
      "execution_count": 20,
      "outputs": []
    },
    {
      "cell_type": "code",
      "metadata": {
        "id": "1nknZ2T3Kul5"
      },
      "source": [
        "df[df['Số cổng Gigabit Ethernet'] == 'Đang cập nhật'] = 0\n",
        "df['Số cổng Gigabit Ethernet']=df['Số cổng Gigabit Ethernet'].astype(int)"
      ],
      "execution_count": 21,
      "outputs": []
    },
    {
      "cell_type": "code",
      "metadata": {
        "id": "dosTMTWqJeN0"
      },
      "source": [
        "df['Số cổng HDMI'] = df['Số cổng HDMI'].astype(int) "
      ],
      "execution_count": 22,
      "outputs": []
    },
    {
      "cell_type": "code",
      "metadata": {
        "id": "e0cS-JS7K_WH"
      },
      "source": [
        "df[df['Số cổng VGA'] == 'Đang cập nhật'] = 0\n",
        "df['Số cổng VGA']=df['Số cổng Gigabit Ethernet'].astype(int)"
      ],
      "execution_count": 23,
      "outputs": []
    },
    {
      "cell_type": "code",
      "metadata": {
        "id": "zYyWislai4dG"
      },
      "source": [
        "df[df['Số khe cắm rời'] == 'Đang cập nhật'] = 0\r\n",
        "df['Số khe cắm rời']=df['Số khe cắm rời'].astype(int)"
      ],
      "execution_count": 24,
      "outputs": []
    },
    {
      "cell_type": "code",
      "metadata": {
        "id": "PiJRKt_JJGmB"
      },
      "source": [
        "clean_data = df[['Tên đầy đủ (CPU)', 'RAM', 'Màn hình', 'Độ phân giải', 'Thời gian bảo hành', 'Có SSD', 'Có HDD', 'Có Card rời', 'Có Card onbroad', 'Số RAM onboard', 'Tần số quét','Độ sáng', 'Xung nhịp tối đa (Card onbroad)', 'Bộ nhớ đồ họa (Card rời)', 'Tổng số khe cắm SSD/HDD', 'Số khe SSD/HDD còn lại', 'Số cổng Gigabit Ethernet' ,'Số cổng VGA', 'Số cổng HDMI', 'Số khe cắm rời', 'Tốc độ RAM', 'Card đồ họa', 'price']]"
      ],
      "execution_count": 25,
      "outputs": []
    },
    {
      "cell_type": "code",
      "metadata": {
        "id": "-H235VcMzjzV",
        "colab": {
          "base_uri": "https://localhost:8080/"
        },
        "outputId": "b1fbf733-5234-470e-8eec-075bb7add375"
      },
      "source": [
        "clean_data.shape"
      ],
      "execution_count": 26,
      "outputs": [
        {
          "output_type": "execute_result",
          "data": {
            "text/plain": [
              "(181, 23)"
            ]
          },
          "metadata": {
            "tags": []
          },
          "execution_count": 26
        }
      ]
    },
    {
      "cell_type": "code",
      "metadata": {
        "id": "SIc8YOC9nsTd"
      },
      "source": [
        "# Tính toán ma trận tương quan giữa các thuộc tính với thuộc tính giá của laptop\r\n",
        "corr_matrix = clean_data.corr()"
      ],
      "execution_count": 27,
      "outputs": []
    },
    {
      "cell_type": "code",
      "metadata": {
        "colab": {
          "base_uri": "https://localhost:8080/"
        },
        "id": "bkf0dBu9nyyG",
        "outputId": "5485800d-5945-4eec-dec8-b80f28953966"
      },
      "source": [
        "# Sắp xếp độ tương quan của các thuộc tính theo thứ tự từ cao xuống thấp để chọn ra các thuộc tính có độ tương quan cao nhất\r\n",
        "corr_matrix['price'].sort_values(ascending=False)"
      ],
      "execution_count": 28,
      "outputs": [
        {
          "output_type": "execute_result",
          "data": {
            "text/plain": [
              "price                              1.000000\n",
              "Độ sáng                            0.882128\n",
              "Độ phân giải                       0.818918\n",
              "Tên đầy đủ (CPU)                   0.803566\n",
              "Tốc độ RAM                         0.799916\n",
              "Màn hình                           0.761673\n",
              "Có Card onbroad                    0.747632\n",
              "Xung nhịp tối đa (Card onbroad)    0.731800\n",
              "Tần số quét                        0.702001\n",
              "Thời gian bảo hành                 0.674245\n",
              "Có SSD                             0.637292\n",
              "Tổng số khe cắm SSD/HDD            0.590393\n",
              "RAM                                0.557276\n",
              "Số cổng HDMI                       0.542227\n",
              "Bộ nhớ đồ họa (Card rời)           0.536073\n",
              "Có Card rời                        0.513077\n",
              "Card đồ họa                        0.451590\n",
              "Số khe cắm rời                     0.419317\n",
              "Số RAM onboard                     0.387705\n",
              "Số khe SSD/HDD còn lại             0.306825\n",
              "Số cổng Gigabit Ethernet           0.301882\n",
              "Số cổng VGA                        0.301882\n",
              "Có HDD                             0.050431\n",
              "Name: price, dtype: float64"
            ]
          },
          "metadata": {
            "tags": []
          },
          "execution_count": 28
        }
      ]
    },
    {
      "cell_type": "code",
      "metadata": {
        "colab": {
          "base_uri": "https://localhost:8080/",
          "height": 951
        },
        "id": "1FU0AeeODGqV",
        "outputId": "1a2f7a7c-0707-4c8b-ee14-cb985e98d75b"
      },
      "source": [
        "# from pandas.tools.plotting import scatter_matrix # For older versions of Pandas\r\n",
        "\r\n",
        "# Đồ thị biểu diễn sự tương quan của 4 thuộc tính có độ tương quan với price cao nhất là Tốc độ RAM, Tên đầy đủ CPU, Độ sáng, Độ phân giải\r\n",
        "from pandas.plotting import scatter_matrix\r\n",
        "\r\n",
        "attributes = [\"price\", \"Độ sáng\", \"Độ phân giải\", \"Tên đầy đủ (CPU)\",\r\n",
        "              \"Tốc độ RAM\"]\r\n",
        "scatter_matrix(clean_data[attributes], figsize=(12, 8))"
      ],
      "execution_count": 29,
      "outputs": [
        {
          "output_type": "execute_result",
          "data": {
            "text/plain": [
              "array([[<matplotlib.axes._subplots.AxesSubplot object at 0x7fb50c5c8d68>,\n",
              "        <matplotlib.axes._subplots.AxesSubplot object at 0x7fb50c59dfd0>,\n",
              "        <matplotlib.axes._subplots.AxesSubplot object at 0x7fb50c55c2b0>,\n",
              "        <matplotlib.axes._subplots.AxesSubplot object at 0x7fb50c50e518>,\n",
              "        <matplotlib.axes._subplots.AxesSubplot object at 0x7fb50c542780>],\n",
              "       [<matplotlib.axes._subplots.AxesSubplot object at 0x7fb50c4f49e8>,\n",
              "        <matplotlib.axes._subplots.AxesSubplot object at 0x7fb50c4a9c50>,\n",
              "        <matplotlib.axes._subplots.AxesSubplot object at 0x7fb50c45be80>,\n",
              "        <matplotlib.axes._subplots.AxesSubplot object at 0x7fb50c45bef0>,\n",
              "        <matplotlib.axes._subplots.AxesSubplot object at 0x7fb50c3cf3c8>],\n",
              "       [<matplotlib.axes._subplots.AxesSubplot object at 0x7fb50c401630>,\n",
              "        <matplotlib.axes._subplots.AxesSubplot object at 0x7fb50c3b6898>,\n",
              "        <matplotlib.axes._subplots.AxesSubplot object at 0x7fb50c369b00>,\n",
              "        <matplotlib.axes._subplots.AxesSubplot object at 0x7fb50c31dd68>,\n",
              "        <matplotlib.axes._subplots.AxesSubplot object at 0x7fb50c2d2fd0>],\n",
              "       [<matplotlib.axes._subplots.AxesSubplot object at 0x7fb50c4d16a0>,\n",
              "        <matplotlib.axes._subplots.AxesSubplot object at 0x7fb50c39fdd8>,\n",
              "        <matplotlib.axes._subplots.AxesSubplot object at 0x7fb50c2679e8>,\n",
              "        <matplotlib.axes._subplots.AxesSubplot object at 0x7fb50c219c50>,\n",
              "        <matplotlib.axes._subplots.AxesSubplot object at 0x7fb50c1cdeb8>],\n",
              "       [<matplotlib.axes._subplots.AxesSubplot object at 0x7fb50c18d160>,\n",
              "        <matplotlib.axes._subplots.AxesSubplot object at 0x7fb50c1c03c8>,\n",
              "        <matplotlib.axes._subplots.AxesSubplot object at 0x7fb50c174630>,\n",
              "        <matplotlib.axes._subplots.AxesSubplot object at 0x7fb50c127898>,\n",
              "        <matplotlib.axes._subplots.AxesSubplot object at 0x7fb50c0ddb00>]],\n",
              "      dtype=object)"
            ]
          },
          "metadata": {
            "tags": []
          },
          "execution_count": 29
        },
        {
          "output_type": "display_data",
          "data": {
            "image/png": "[encoded data removed]",
            "text/plain": [
              "<Figure size 864x576 with 25 Axes>"
            ]
          },
          "metadata": {
            "tags": [],
            "needs_background": "light"
          }
        }
      ]
    },
    {
      "cell_type": "code",
      "metadata": {
        "colab": {
          "base_uri": "https://localhost:8080/"
        },
        "id": "CTY_XYPgBm91",
        "outputId": "63924e54-f256-4a46-b669-fef202778a7c"
      },
      "source": [
        "# Loại đi để xem Có HDD đó có độ tương quan với thuộc tính price quá thấp\r\n",
        "clean_data.drop(columns=['Có HDD'], axis = 1, inplace=True)"
      ],
      "execution_count": 30,
      "outputs": [
        {
          "output_type": "stream",
          "text": [
            "/usr/local/lib/python3.6/dist-packages/pandas/core/frame.py:4174: SettingWithCopyWarning: \n",
            "A value is trying to be set on a copy of a slice from a DataFrame\n",
            "\n",
            "See the caveats in the documentation: https://pandas.pydata.org/pandas-docs/stable/user_guide/indexing.html#returning-a-view-versus-a-copy\n",
            "  errors=errors,\n"
          ],
          "name": "stderr"
        }
      ]
    },
    {
      "cell_type": "code",
      "metadata": {
        "colab": {
          "base_uri": "https://localhost:8080/"
        },
        "id": "__-h0tkBB7FN",
        "outputId": "a637270c-28f4-47bc-e97e-86fae80afc2e"
      },
      "source": [
        "# Kiểm tra lại xem đã xóa cột đó chưa\r\n",
        "len(clean_data.columns)"
      ],
      "execution_count": 31,
      "outputs": [
        {
          "output_type": "execute_result",
          "data": {
            "text/plain": [
              "22"
            ]
          },
          "metadata": {
            "tags": []
          },
          "execution_count": 31
        }
      ]
    },
    {
      "cell_type": "code",
      "metadata": {
        "colab": {
          "base_uri": "https://localhost:8080/",
          "height": 855
        },
        "id": "0ufop3PQCd-F",
        "outputId": "f388cc50-a765-4573-c152-3d36f184b8fa"
      },
      "source": [
        "# Visualize phân bố dữ liệu của từng thuộc tính \r\n",
        "%matplotlib inline\r\n",
        "import matplotlib.pyplot as plt\r\n",
        "clean_data.hist(bins=50, figsize=(20,15))\r\n",
        "plt.show()"
      ],
      "execution_count": 32,
      "outputs": [
        {
          "output_type": "display_data",
          "data": {
            "image/png": "[encoded data removed]",
            "text/plain": [
              "<Figure size 1440x1080 with 25 Axes>"
            ]
          },
          "metadata": {
            "tags": [],
            "needs_background": "light"
          }
        }
      ]
    },
    {
      "cell_type": "code",
      "metadata": {
        "id": "K6y-tKpmSYKG"
      },
      "source": [
        "import numpy as np\n",
        "from sklearn.linear_model import LinearRegression\n",
        "from sklearn.model_selection import train_test_split\n",
        "from sklearn.metrics import mean_squared_error\n",
        "from sklearn.preprocessing import StandardScaler"
      ],
      "execution_count": 33,
      "outputs": []
    },
    {
      "cell_type": "code",
      "metadata": {
        "id": "BtGGhPimf1OV"
      },
      "source": [
        "y = clean_data['price'].values\n",
        "x = clean_data.drop(columns=['price']).values"
      ],
      "execution_count": 34,
      "outputs": []
    },
    {
      "cell_type": "markdown",
      "metadata": {
        "id": "Qu_9hKa0E4hF"
      },
      "source": [
        "### Chia tập dữ liệu thành train và test "
      ]
    },
    {
      "cell_type": "code",
      "metadata": {
        "id": "QnaTk2dSjPFU"
      },
      "source": [
        "x_train, x_test, y_train, y_test = train_test_split(x,y, test_size=0.2)"
      ],
      "execution_count": 35,
      "outputs": []
    },
    {
      "cell_type": "code",
      "metadata": {
        "colab": {
          "base_uri": "https://localhost:8080/"
        },
        "id": "jz5SK6WhjwrN",
        "outputId": "6c5c1358-9320-4a51-a870-e07ba604011d"
      },
      "source": [
        "# Normalize data with 0 mean, 1 std\r\n",
        "stdScaler = StandardScaler()\r\n",
        "\r\n",
        "stdScaler.fit(x_train)\r\n",
        "stdScaler.transform(x_train)\r\n",
        "stdScaler.transform(x_test)"
      ],
      "execution_count": 36,
      "outputs": [
        {
          "output_type": "execute_result",
          "data": {
            "text/plain": [
              "array([[-1.20982949, -1.21654989, -1.49826172, -1.15317852, -1.24079748,\n",
              "        -1.37113092, -0.66332496, -1.43660356, -0.67419986, -1.2009255 ,\n",
              "        -1.40826085, -1.42631612, -0.58674772, -1.24756572, -0.79593207,\n",
              "        -0.68511879, -0.68511879, -1.29099445, -0.96880431, -1.42746971,\n",
              "        -1.00836835],\n",
              "       [-1.20982949, -1.21654989, -1.49826172, -1.15317852, -1.24079748,\n",
              "        -1.37113092, -0.66332496, -1.43660356, -0.67419986, -1.2009255 ,\n",
              "        -1.40826085, -1.42631612, -0.58674772, -1.24756572, -0.79593207,\n",
              "        -0.68511879, -0.68511879, -1.29099445, -0.96880431, -1.42746971,\n",
              "        -1.00836835],\n",
              "       [ 0.16899752,  1.08093449,  0.54745154,  0.45124664,  0.06339841,\n",
              "         0.72932496,  1.50755672,  0.69608626,  1.4832397 ,  0.16200584,\n",
              "         0.58168693,  1.35131994,  0.57067244, -0.12475657, -0.79593207,\n",
              "         1.4596009 ,  1.4596009 ,  0.77459667,  0.16540561,  0.48920336,\n",
              "        -0.09166985],\n",
              "       [ 0.55538139,  1.08093449,  0.54745154,  0.45124664,  0.06339841,\n",
              "         0.72932496, -0.66332496,  0.69608626, -0.67419986,  0.16200584,\n",
              "         0.28859385,  0.98096847, -0.58674772, -0.12475657, -0.79593207,\n",
              "        -0.68511879, -0.68511879,  0.77459667,  1.29961554,  0.87311312,\n",
              "         0.88614188],\n",
              "       [-1.20982949, -1.21654989, -1.49826172, -1.15317852, -1.24079748,\n",
              "        -1.37113092, -0.66332496, -1.43660356, -0.67419986, -1.2009255 ,\n",
              "        -1.40826085, -1.42631612, -0.58674772, -1.24756572, -0.79593207,\n",
              "        -0.68511879, -0.68511879, -1.29099445, -0.96880431, -1.42746971,\n",
              "        -1.00836835],\n",
              "       [-1.20982949, -1.21654989, -1.49826172, -1.15317852, -1.24079748,\n",
              "        -1.37113092, -0.66332496, -1.43660356, -0.67419986, -1.2009255 ,\n",
              "        -1.40826085, -1.42631612, -0.58674772, -1.24756572, -0.79593207,\n",
              "        -0.68511879, -0.68511879, -1.29099445, -0.96880431, -1.42746971,\n",
              "        -1.00836835],\n",
              "       [ 0.68537182, -0.92936434,  0.44516588,  5.26452214,  0.06339841,\n",
              "         0.72932496, -0.66332496,  0.69608626,  1.4832397 ,  0.16200584,\n",
              "         1.67692951,  0.61061699, -0.58674772, -0.12475657, -0.79593207,\n",
              "        -0.68511879, -0.68511879, -1.29099445, -0.96880431,  0.87311312,\n",
              "         0.70280218],\n",
              "       [-1.20982949, -1.21654989, -1.49826172, -1.15317852, -1.24079748,\n",
              "        -1.37113092, -0.66332496, -1.43660356, -0.67419986, -1.2009255 ,\n",
              "        -1.40826085, -1.42631612, -0.58674772, -1.24756572, -0.79593207,\n",
              "        -0.68511879, -0.68511879, -1.29099445, -0.96880431, -1.42746971,\n",
              "        -1.00836835],\n",
              "       [ 0.16899752, -0.92936434,  0.54745154,  1.69913288,  2.67179019,\n",
              "        -1.37113092, -0.66332496,  0.69608626,  1.4832397 ,  0.16200584,\n",
              "         0.90563192,  0.61061699, -0.58674772, -0.12475657, -0.79593207,\n",
              "        -0.68511879, -0.68511879,  0.77459667, -0.96880431,  0.10601253,\n",
              "        -0.58057571],\n",
              "       [ 0.05377873, -0.0678077 ,  0.78124734,  0.45124664,  0.06339841,\n",
              "        -1.37113092,  1.50755672,  0.69608626, -0.67419986,  0.16200584,\n",
              "         0.58168693,  0.61061699,  0.57067244,  0.99805258,  0.94064699,\n",
              "         1.4596009 ,  1.4596009 ,  0.77459667,  1.29961554,  0.29796741,\n",
              "        -0.15278308],\n",
              "       [-1.20982949, -1.21654989, -1.49826172, -1.15317852, -1.24079748,\n",
              "        -1.37113092, -0.66332496, -1.43660356, -0.67419986, -1.2009255 ,\n",
              "        -1.40826085, -1.42631612, -0.58674772, -1.24756572, -0.79593207,\n",
              "        -0.68511879, -0.68511879, -1.29099445, -0.96880431, -1.42746971,\n",
              "        -1.00836835],\n",
              "       [-1.20982949, -1.21654989, -1.49826172, -1.15317852, -1.24079748,\n",
              "        -1.37113092, -0.66332496, -1.43660356, -0.67419986, -1.2009255 ,\n",
              "        -1.40826085, -1.42631612, -0.58674772, -1.24756572, -0.79593207,\n",
              "        -0.68511879, -0.68511879, -1.29099445, -0.96880431, -1.42746971,\n",
              "        -1.00836835],\n",
              "       [-1.20982949, -1.21654989, -1.49826172, -1.15317852, -1.24079748,\n",
              "        -1.37113092, -0.66332496, -1.43660356, -0.67419986, -1.2009255 ,\n",
              "        -1.40826085, -1.42631612, -0.58674772, -1.24756572, -0.79593207,\n",
              "        -0.68511879, -0.68511879, -1.29099445, -0.96880431, -1.42746971,\n",
              "        -1.00836835],\n",
              "       [ 0.15992351, -0.0678077 ,  0.78124734,  0.45124664,  0.06339841,\n",
              "        -1.37113092, -0.66332496,  0.69608626,  1.4832397 ,  0.16200584,\n",
              "         0.58168693,  0.61061699, -0.58674772,  0.99805258,  0.94064699,\n",
              "        -0.68511879, -0.68511879,  0.77459667,  0.16540561,  0.48920336,\n",
              "         1.86395361],\n",
              "       [-0.1023786 , -0.0678077 ,  0.78124734,  0.45124664,  0.06339841,\n",
              "         0.72932496, -0.66332496,  0.69608626, -0.67419986,  0.16200584,\n",
              "         0.28859385,  0.24026552, -0.58674772,  0.99805258,  0.94064699,\n",
              "         1.4596009 ,  1.4596009 ,  0.77459667,  0.16540561,  0.48920336,\n",
              "         1.00836835],\n",
              "       [ 0.47962399, -0.0678077 ,  0.78124734,  0.45124664,  0.06339841,\n",
              "         0.72932496, -0.66332496,  0.69608626, -0.67419986,  0.16200584,\n",
              "         0.28859385,  0.51802912, -0.58674772,  0.99805258,  0.94064699,\n",
              "         1.4596009 ,  1.4596009 ,  0.77459667,  0.16540561,  0.48920336,\n",
              "        -0.58057571],\n",
              "       [ 0.30299739, -0.0678077 ,  0.54745154,  0.45124664,  1.3675943 ,\n",
              "         0.72932496, -0.66332496,  0.69608626,  1.4832397 ,  0.16200584,\n",
              "         0.13433433,  0.61061699, -0.58674772, -0.12475657, -0.79593207,\n",
              "        -0.68511879, -0.68511879,  0.77459667,  0.16540561,  0.29796741,\n",
              "         2.10840654],\n",
              "       [-0.1023786 , -0.0678077 ,  0.78124734,  0.45124664,  0.06339841,\n",
              "         0.72932496, -0.66332496,  0.69608626, -0.67419986,  0.16200584,\n",
              "         0.58168693,  0.24026552, -0.58674772,  0.99805258,  0.94064699,\n",
              "         1.4596009 ,  1.4596009 ,  0.77459667,  1.29961554,  0.29796741,\n",
              "        -0.58057571],\n",
              "       [-1.20982949, -1.21654989, -1.49826172, -1.15317852, -1.24079748,\n",
              "        -1.37113092, -0.66332496, -1.43660356, -0.67419986, -1.2009255 ,\n",
              "        -1.40826085, -1.42631612, -0.58674772, -1.24756572, -0.79593207,\n",
              "        -0.68511879, -0.68511879, -1.29099445, -0.96880431, -1.42746971,\n",
              "        -1.00836835],\n",
              "       [ 1.45370808, -0.92936434,  0.78124734,  0.45124664,  0.06339841,\n",
              "         0.72932496,  1.50755672,  0.69608626, -0.67419986,  1.52493719,\n",
              "         0.51998313, -0.77820104,  2.88551276,  2.12086173,  2.67722604,\n",
              "         1.4596009 ,  1.4596009 ,  0.77459667,  1.29961554,  0.68115824,\n",
              "         1.49727421],\n",
              "       [ 0.46189802,  1.08093449,  0.78124734,  0.45124664,  1.3675943 ,\n",
              "         0.72932496,  1.50755672,  0.69608626, -0.67419986,  2.07010973,\n",
              "         0.51998313,  0.60876524,  1.7280926 , -0.12475657,  0.94064699,\n",
              "         1.4596009 ,  1.4596009 ,  0.77459667,  1.29961554,  0.48920336,\n",
              "         0.33612278],\n",
              "       [-1.20982949, -1.21654989, -1.49826172, -1.15317852, -1.24079748,\n",
              "        -1.37113092, -0.66332496, -1.43660356, -0.67419986, -1.2009255 ,\n",
              "        -1.40826085, -1.42631612, -0.58674772, -1.24756572, -0.79593207,\n",
              "        -0.68511879, -0.68511879, -1.29099445, -0.96880431, -1.42746971,\n",
              "        -1.00836835],\n",
              "       [-0.34653269, -0.0678077 ,  0.54745154,  0.45124664,  1.3675943 ,\n",
              "         0.72932496, -0.66332496,  0.69608626,  1.4832397 ,  0.16200584,\n",
              "         0.13433433,  0.51802912, -0.58674772, -0.12475657, -0.79593207,\n",
              "        -0.68511879, -0.68511879,  0.77459667,  0.16540561,  0.48920336,\n",
              "         1.00836835],\n",
              "       [ 0.47962399, -0.0678077 ,  0.78124734,  0.45124664,  0.06339841,\n",
              "         0.72932496, -0.66332496,  0.69608626, -0.67419986,  0.16200584,\n",
              "         0.58168693,  0.51802912, -0.58674772,  0.99805258,  0.94064699,\n",
              "         1.4596009 ,  1.4596009 ,  0.77459667,  1.29961554,  0.29796741,\n",
              "        -0.58057571],\n",
              "       [-0.1023786 , -0.0678077 ,  0.78124734, -0.34145824,  0.06339841,\n",
              "         0.72932496,  1.50755672,  0.69608626, -0.67419986,  0.16200584,\n",
              "         0.28859385,  0.24026552,  0.57067244,  0.99805258,  0.94064699,\n",
              "         1.4596009 ,  1.4596009 ,  0.77459667,  1.29961554,  0.48920336,\n",
              "        -0.15278308],\n",
              "       [ 0.16899752, -0.92936434,  0.54745154,  0.45124664,  2.67179019,\n",
              "        -1.37113092, -0.66332496,  0.69608626,  1.4832397 ,  0.16200584,\n",
              "         0.51998313,  0.61061699, -0.58674772, -0.12475657, -0.79593207,\n",
              "        -0.68511879, -0.68511879,  0.77459667, -0.96880431,  0.87311312,\n",
              "        -0.58057571],\n",
              "       [ 1.45370808,  1.08093449,  0.78124734,  0.45124664,  0.06339841,\n",
              "         0.72932496,  1.50755672,  0.69608626, -0.67419986,  1.52493719,\n",
              "         0.51998313,  0.70320486,  2.88551276, -0.12475657, -0.79593207,\n",
              "         1.4596009 ,  1.4596009 ,  0.77459667,  1.29961554,  0.68115824,\n",
              "         0.21389632],\n",
              "       [ 0.55538139,  1.08093449,  0.78124734,  0.45124664,  1.3675943 ,\n",
              "         0.72932496, -0.66332496,  0.69608626,  1.4832397 ,  0.45730764,\n",
              "         0.90563192,  0.60876524, -0.58674772,  0.99805258,  0.94064699,\n",
              "        -0.68511879, -0.68511879,  0.77459667, -0.96880431,  0.87311312,\n",
              "         0.82502865],\n",
              "       [-1.20982949, -1.21654989, -1.49826172, -1.15317852, -1.24079748,\n",
              "        -1.37113092, -0.66332496, -1.43660356, -0.67419986, -1.2009255 ,\n",
              "        -1.40826085, -1.42631612, -0.58674772, -1.24756572, -0.79593207,\n",
              "        -0.68511879, -0.68511879, -1.29099445, -0.96880431, -1.42746971,\n",
              "        -1.00836835],\n",
              "       [ 0.47962399,  1.08093449,  0.54745154,  0.45124664,  0.06339841,\n",
              "         0.72932496, -0.66332496,  0.69608626, -0.67419986,  0.16200584,\n",
              "         0.28859385,  0.51802912, -0.58674772, -0.12475657,  0.94064699,\n",
              "         1.4596009 ,  1.4596009 ,  0.77459667,  1.29961554,  0.48920336,\n",
              "         1.00836835],\n",
              "       [-1.20982949, -1.21654989, -1.49826172, -1.15317852, -1.24079748,\n",
              "        -1.37113092, -0.66332496, -1.43660356, -0.67419986, -1.2009255 ,\n",
              "        -1.40826085, -1.42631612, -0.58674772, -1.24756572, -0.79593207,\n",
              "        -0.68511879, -0.68511879, -1.29099445, -0.96880431, -1.42746971,\n",
              "        -1.00836835],\n",
              "       [ 1.00676048, -0.92936434,  0.54745154,  0.45124664,  0.06339841,\n",
              "         0.72932496,  1.50755672,  0.69608626, -0.67419986,  0.16200584,\n",
              "         0.90563192,  0.61061699,  0.57067244, -0.12475657, -0.79593207,\n",
              "         1.4596009 ,  1.4596009 ,  0.77459667,  1.29961554,  0.87311312,\n",
              "        -0.09166985],\n",
              "       [ 0.16899752,  1.08093449,  0.44516588,  0.45124664,  1.3675943 ,\n",
              "         0.72932496,  1.50755672,  0.69608626,  1.4832397 ,  0.16200584,\n",
              "         0.51998313,  0.61061699,  0.57067244, -0.12475657, -0.79593207,\n",
              "        -0.68511879, -0.68511879,  0.77459667, -0.96880431,  0.10601253,\n",
              "        -0.03055662],\n",
              "       [ 0.47962399,  1.08093449,  0.78124734,  0.45124664,  1.3675943 ,\n",
              "         0.72932496, -0.66332496,  0.69608626,  1.4832397 ,  0.16200584,\n",
              "         0.90563192,  0.51802912, -0.58674772,  0.99805258,  0.94064699,\n",
              "        -0.68511879, -0.68511879,  0.77459667, -0.96880431,  0.87311312,\n",
              "         1.00836835],\n",
              "       [ 0.55538139,  1.08093449,  0.44516588,  0.45124664,  0.06339841,\n",
              "         0.72932496, -0.66332496,  0.69608626,  3.64067926,  0.16200584,\n",
              "         0.90563192,  0.98096847, -0.58674772, -0.12475657, -0.79593207,\n",
              "        -0.68511879, -0.68511879,  0.77459667, -0.96880431,  1.63949478,\n",
              "         0.88614188],\n",
              "       [-0.41194995, -0.0678077 ,  0.54745154,  0.45124664,  1.3675943 ,\n",
              "         0.72932496, -0.66332496,  0.69608626,  1.4832397 ,  0.16200584,\n",
              "         0.58168693,  0.61061699, -0.58674772,  0.99805258,  0.94064699,\n",
              "        -0.68511879, -0.68511879,  0.77459667,  0.16540561,  0.29796741,\n",
              "         1.06948158],\n",
              "       [ 0.55538139,  1.08093449,  0.44516588,  0.45124664,  0.06339841,\n",
              "         0.72932496, -0.66332496,  0.69608626,  3.64067926,  0.16200584,\n",
              "         1.67692951,  0.98096847, -0.58674772, -0.12475657, -0.79593207,\n",
              "        -0.68511879, -0.68511879, -1.29099445, -0.96880431,  0.87311312,\n",
              "        -0.58057571]])"
            ]
          },
          "metadata": {
            "tags": []
          },
          "execution_count": 36
        }
      ]
    },
    {
      "cell_type": "markdown",
      "metadata": {
        "id": "yZSK9LcdEnPt"
      },
      "source": [
        "### Sử dụng mô hình Linear Regression"
      ]
    },
    {
      "cell_type": "code",
      "metadata": {
        "id": "_LvZiJ20gVs3"
      },
      "source": [
        "model = LinearRegression()"
      ],
      "execution_count": 37,
      "outputs": []
    },
    {
      "cell_type": "code",
      "metadata": {
        "id": "kPEtvqVKhv-I",
        "colab": {
          "base_uri": "https://localhost:8080/"
        },
        "outputId": "56e43ae9-91bd-4cea-d934-811b97ee3e8b"
      },
      "source": [
        "model.fit(x_train,y_train)"
      ],
      "execution_count": 38,
      "outputs": [
        {
          "output_type": "execute_result",
          "data": {
            "text/plain": [
              "LinearRegression(copy_X=True, fit_intercept=True, n_jobs=None, normalize=False)"
            ]
          },
          "metadata": {
            "tags": []
          },
          "execution_count": 38
        }
      ]
    },
    {
      "cell_type": "code",
      "metadata": {
        "id": "mW5AP47pjn6h"
      },
      "source": [
        "y_pred = model.predict(x_test)"
      ],
      "execution_count": 39,
      "outputs": []
    },
    {
      "cell_type": "markdown",
      "metadata": {
        "id": "2vy3wjFBErY9"
      },
      "source": [
        "### Tính mean squared error sau đó lấy căn để có mean root squared error"
      ]
    },
    {
      "cell_type": "code",
      "metadata": {
        "id": "ninNZIcujxC8",
        "colab": {
          "base_uri": "https://localhost:8080/"
        },
        "outputId": "ebcf11f4-2e9a-4194-eb94-db6766836493"
      },
      "source": [
        "lin_mse = mean_squared_error(y_test, y_pred)\r\n",
        "lin_rmse = np.sqrt(lin_mse)\r\n",
        "lin_rmse"
      ],
      "execution_count": 40,
      "outputs": [
        {
          "output_type": "execute_result",
          "data": {
            "text/plain": [
              "4374257.139912373"
            ]
          },
          "metadata": {
            "tags": []
          },
          "execution_count": 40
        }
      ]
    },
    {
      "cell_type": "markdown",
      "metadata": {
        "id": "chliZUlGGGof"
      },
      "source": [
        "### Sử dụng mô hình Decision Tree"
      ]
    },
    {
      "cell_type": "code",
      "metadata": {
        "id": "yE7si-3I4FSS",
        "colab": {
          "base_uri": "https://localhost:8080/"
        },
        "outputId": "c73fb6e1-0ef9-4eb7-c84b-d11ae96af45c"
      },
      "source": [
        "from sklearn.tree import DecisionTreeRegressor\n",
        "\n",
        "tree_reg = DecisionTreeRegressor(random_state=42)\n",
        "tree_reg.fit(x_train, y_train)"
      ],
      "execution_count": 41,
      "outputs": [
        {
          "output_type": "execute_result",
          "data": {
            "text/plain": [
              "DecisionTreeRegressor(ccp_alpha=0.0, criterion='mse', max_depth=None,\n",
              "                      max_features=None, max_leaf_nodes=None,\n",
              "                      min_impurity_decrease=0.0, min_impurity_split=None,\n",
              "                      min_samples_leaf=1, min_samples_split=2,\n",
              "                      min_weight_fraction_leaf=0.0, presort='deprecated',\n",
              "                      random_state=42, splitter='best')"
            ]
          },
          "metadata": {
            "tags": []
          },
          "execution_count": 41
        }
      ]
    },
    {
      "cell_type": "code",
      "metadata": {
        "id": "nWp5EDD-4FST",
        "colab": {
          "base_uri": "https://localhost:8080/"
        },
        "outputId": "4bb03cee-daed-44d9-b1fb-73a152963bd7"
      },
      "source": [
        "y_pred = tree_reg.predict(x_test)\n",
        "tree_mse = mean_squared_error(y_pred, y_test)\n",
        "tree_rmse = np.sqrt(tree_mse)\n",
        "tree_rmse"
      ],
      "execution_count": 42,
      "outputs": [
        {
          "output_type": "execute_result",
          "data": {
            "text/plain": [
              "4557559.802279214"
            ]
          },
          "metadata": {
            "tags": []
          },
          "execution_count": 42
        }
      ]
    },
    {
      "cell_type": "markdown",
      "metadata": {
        "id": "MHRW81YYE1Ex"
      },
      "source": [
        "### Sử dụng mô hình Random Forest"
      ]
    },
    {
      "cell_type": "code",
      "metadata": {
        "id": "gX9QEwT2klPV"
      },
      "source": [
        "from sklearn.ensemble import RandomForestRegressor"
      ],
      "execution_count": 43,
      "outputs": []
    },
    {
      "cell_type": "code",
      "metadata": {
        "colab": {
          "base_uri": "https://localhost:8080/"
        },
        "id": "Zd6kXFczk2hm",
        "outputId": "573dad73-9da2-477d-9d3d-5cdd0ff71ee2"
      },
      "source": [
        "forest_model = RandomForestRegressor(random_state=42)\r\n",
        "\r\n",
        "forest_model.fit(x_train, y_train)"
      ],
      "execution_count": 44,
      "outputs": [
        {
          "output_type": "execute_result",
          "data": {
            "text/plain": [
              "RandomForestRegressor(bootstrap=True, ccp_alpha=0.0, criterion='mse',\n",
              "                      max_depth=None, max_features='auto', max_leaf_nodes=None,\n",
              "                      max_samples=None, min_impurity_decrease=0.0,\n",
              "                      min_impurity_split=None, min_samples_leaf=1,\n",
              "                      min_samples_split=2, min_weight_fraction_leaf=0.0,\n",
              "                      n_estimators=100, n_jobs=None, oob_score=False,\n",
              "                      random_state=42, verbose=0, warm_start=False)"
            ]
          },
          "metadata": {
            "tags": []
          },
          "execution_count": 44
        }
      ]
    },
    {
      "cell_type": "code",
      "metadata": {
        "id": "Scj3ogtNlCX_"
      },
      "source": [
        "forest_y_pred = forest_model.predict(x_test)"
      ],
      "execution_count": 45,
      "outputs": []
    },
    {
      "cell_type": "code",
      "metadata": {
        "colab": {
          "base_uri": "https://localhost:8080/"
        },
        "id": "Y72YRHwxlKs6",
        "outputId": "f2ca5b72-69e9-491d-a6d4-6cb30c069459"
      },
      "source": [
        "forest_mse = mean_squared_error(forest_y_pred, y_test)\r\n",
        "forest_rmse = np.sqrt(forest_mse)\r\n",
        "forest_rmse"
      ],
      "execution_count": 46,
      "outputs": [
        {
          "output_type": "execute_result",
          "data": {
            "text/plain": [
              "2897475.871304158"
            ]
          },
          "metadata": {
            "tags": []
          },
          "execution_count": 46
        }
      ]
    },
    {
      "cell_type": "markdown",
      "metadata": {
        "id": "Db6IXXI6IgXt"
      },
      "source": [
        "### Sử dụng mô hình SVM"
      ]
    },
    {
      "cell_type": "code",
      "metadata": {
        "colab": {
          "base_uri": "https://localhost:8080/"
        },
        "id": "6hBVYjnGIbSl",
        "outputId": "970a5b15-9286-45fb-e007-7bfa1375191b"
      },
      "source": [
        "from sklearn.svm import SVR\r\n",
        "\r\n",
        "svm_reg = SVR(kernel=\"linear\")\r\n",
        "svm_reg.fit(x_train, y_train)\r\n",
        "y_pred = svm_reg.predict(x_test)\r\n",
        "svm_mse = mean_squared_error(y_pred, y_test)\r\n",
        "svm_rmse = np.sqrt(svm_mse)\r\n",
        "svm_rmse"
      ],
      "execution_count": 47,
      "outputs": [
        {
          "output_type": "execute_result",
          "data": {
            "text/plain": [
              "7291180.504410769"
            ]
          },
          "metadata": {
            "tags": []
          },
          "execution_count": 47
        }
      ]
    },
    {
      "cell_type": "markdown",
      "metadata": {
        "id": "ZOkZOYrwIyoW"
      },
      "source": [
        "### Sử dụng phương pháp Grid Search để tím kiếm bộ siêu tham số cho kết quả tốt nhất trên mô hình Random Forest"
      ]
    },
    {
      "cell_type": "code",
      "metadata": {
        "colab": {
          "base_uri": "https://localhost:8080/"
        },
        "id": "lzgR56wZIpmR",
        "outputId": "d0e3d603-1a5f-4daf-80a8-060e2a580698"
      },
      "source": [
        "from sklearn.model_selection import GridSearchCV\r\n",
        "\r\n",
        "param_grid = [\r\n",
        "    {'n_estimators': [3, 10, 30, 100], 'max_features': [2, 4, 6, 8, 10]},\r\n",
        "    {'bootstrap': [False], 'n_estimators': [3, 10], 'max_features': [2, 3, 4]},\r\n",
        "  ]\r\n",
        "\r\n",
        "forest_reg = RandomForestRegressor(random_state=42)\r\n",
        "grid_search = GridSearchCV(forest_reg, param_grid, cv=5,\r\n",
        "                           scoring='neg_mean_squared_error',\r\n",
        "                           return_train_score=True)\r\n",
        "grid_search.fit(x_train, y_train)"
      ],
      "execution_count": 48,
      "outputs": [
        {
          "output_type": "execute_result",
          "data": {
            "text/plain": [
              "GridSearchCV(cv=5, error_score=nan,\n",
              "             estimator=RandomForestRegressor(bootstrap=True, ccp_alpha=0.0,\n",
              "                                             criterion='mse', max_depth=None,\n",
              "                                             max_features='auto',\n",
              "                                             max_leaf_nodes=None,\n",
              "                                             max_samples=None,\n",
              "                                             min_impurity_decrease=0.0,\n",
              "                                             min_impurity_split=None,\n",
              "                                             min_samples_leaf=1,\n",
              "                                             min_samples_split=2,\n",
              "                                             min_weight_fraction_leaf=0.0,\n",
              "                                             n_estimators=100, n_jobs=None,\n",
              "                                             oob_score=False, random_state=42,\n",
              "                                             verbose=0, warm_start=False),\n",
              "             iid='deprecated', n_jobs=None,\n",
              "             param_grid=[{'max_features': [2, 4, 6, 8, 10],\n",
              "                          'n_estimators': [3, 10, 30, 100]},\n",
              "                         {'bootstrap': [False], 'max_features': [2, 3, 4],\n",
              "                          'n_estimators': [3, 10]}],\n",
              "             pre_dispatch='2*n_jobs', refit=True, return_train_score=True,\n",
              "             scoring='neg_mean_squared_error', verbose=0)"
            ]
          },
          "metadata": {
            "tags": []
          },
          "execution_count": 48
        }
      ]
    },
    {
      "cell_type": "code",
      "metadata": {
        "colab": {
          "base_uri": "https://localhost:8080/"
        },
        "id": "KjqVe167JDRB",
        "outputId": "f6f17d72-98fd-4beb-f9a1-3004159cbfa2"
      },
      "source": [
        "# Bộ tham số tốt nhất được tìm ra bởi grid search\r\n",
        "grid_search.best_params_"
      ],
      "execution_count": 49,
      "outputs": [
        {
          "output_type": "execute_result",
          "data": {
            "text/plain": [
              "{'max_features': 8, 'n_estimators': 100}"
            ]
          },
          "metadata": {
            "tags": []
          },
          "execution_count": 49
        }
      ]
    },
    {
      "cell_type": "code",
      "metadata": {
        "colab": {
          "base_uri": "https://localhost:8080/"
        },
        "id": "0XpgBashJLoj",
        "outputId": "b4c55417-e8ea-4e5f-d313-bce1872daf6a"
      },
      "source": [
        "grid_search.best_estimator_"
      ],
      "execution_count": 50,
      "outputs": [
        {
          "output_type": "execute_result",
          "data": {
            "text/plain": [
              "RandomForestRegressor(bootstrap=True, ccp_alpha=0.0, criterion='mse',\n",
              "                      max_depth=None, max_features=8, max_leaf_nodes=None,\n",
              "                      max_samples=None, min_impurity_decrease=0.0,\n",
              "                      min_impurity_split=None, min_samples_leaf=1,\n",
              "                      min_samples_split=2, min_weight_fraction_leaf=0.0,\n",
              "                      n_estimators=100, n_jobs=None, oob_score=False,\n",
              "                      random_state=42, verbose=0, warm_start=False)"
            ]
          },
          "metadata": {
            "tags": []
          },
          "execution_count": 50
        }
      ]
    },
    {
      "cell_type": "code",
      "metadata": {
        "colab": {
          "base_uri": "https://localhost:8080/"
        },
        "id": "d1ZpxjYvJNhR",
        "outputId": "06b9f86e-8326-4f63-a8d3-7588db69e833"
      },
      "source": [
        "cvres = grid_search.cv_results_\r\n",
        "for mean_score, params in zip(cvres[\"mean_test_score\"], cvres[\"params\"]):\r\n",
        "    print(np.sqrt(-mean_score), params)"
      ],
      "execution_count": 51,
      "outputs": [
        {
          "output_type": "stream",
          "text": [
            "5472324.508614244 {'max_features': 2, 'n_estimators': 3}\n",
            "4797259.800185538 {'max_features': 2, 'n_estimators': 10}\n",
            "4621800.650196316 {'max_features': 2, 'n_estimators': 30}\n",
            "4343656.96752295 {'max_features': 2, 'n_estimators': 100}\n",
            "4350311.754796875 {'max_features': 4, 'n_estimators': 3}\n",
            "3862422.503364848 {'max_features': 4, 'n_estimators': 10}\n",
            "3771187.948687906 {'max_features': 4, 'n_estimators': 30}\n",
            "3800697.7278506807 {'max_features': 4, 'n_estimators': 100}\n",
            "4506626.477660063 {'max_features': 6, 'n_estimators': 3}\n",
            "3810802.3066274435 {'max_features': 6, 'n_estimators': 10}\n",
            "3697930.8756847 {'max_features': 6, 'n_estimators': 30}\n",
            "3557254.594529247 {'max_features': 6, 'n_estimators': 100}\n",
            "4477468.6765920725 {'max_features': 8, 'n_estimators': 3}\n",
            "3781603.045192168 {'max_features': 8, 'n_estimators': 10}\n",
            "3749434.8961730744 {'max_features': 8, 'n_estimators': 30}\n",
            "3508366.742305079 {'max_features': 8, 'n_estimators': 100}\n",
            "4421360.113952756 {'max_features': 10, 'n_estimators': 3}\n",
            "3876329.9753334094 {'max_features': 10, 'n_estimators': 10}\n",
            "3881142.3435232374 {'max_features': 10, 'n_estimators': 30}\n",
            "3645332.191249137 {'max_features': 10, 'n_estimators': 100}\n",
            "4498197.382977243 {'bootstrap': False, 'max_features': 2, 'n_estimators': 3}\n",
            "3947386.611617407 {'bootstrap': False, 'max_features': 2, 'n_estimators': 10}\n",
            "4037203.234105963 {'bootstrap': False, 'max_features': 3, 'n_estimators': 3}\n",
            "3887250.3064600676 {'bootstrap': False, 'max_features': 3, 'n_estimators': 10}\n",
            "4136046.1024745954 {'bootstrap': False, 'max_features': 4, 'n_estimators': 3}\n",
            "3535709.0336230085 {'bootstrap': False, 'max_features': 4, 'n_estimators': 10}\n"
          ],
          "name": "stdout"
        }
      ]
    },
    {
      "cell_type": "code",
      "metadata": {
        "colab": {
          "base_uri": "https://localhost:8080/"
        },
        "id": "78gBVt20JSWO",
        "outputId": "43836017-60e9-4526-aacb-7f68ba65aafd"
      },
      "source": [
        "# Sử dụng mô hình được tìm ra bởi grid search trên tập test\r\n",
        "\r\n",
        "final_model = grid_search.best_estimator_\r\n",
        "final_predictions = final_model.predict(x_test)\r\n",
        "\r\n",
        "final_mse = mean_squared_error(y_test, final_predictions)\r\n",
        "final_rmse = np.sqrt(final_mse)\r\n",
        "\r\n",
        "final_rmse"
      ],
      "execution_count": 52,
      "outputs": [
        {
          "output_type": "execute_result",
          "data": {
            "text/plain": [
              "2824189.5807544095"
            ]
          },
          "metadata": {
            "tags": []
          },
          "execution_count": 52
        }
      ]
    }
  ]
}